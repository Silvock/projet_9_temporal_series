{
 "cells": [
  {
   "cell_type": "code",
   "execution_count": 1,
   "metadata": {
    "nbpresent": {
     "id": "595cdf24-c450-4525-b25c-f2cb9b517917"
    }
   },
   "outputs": [
    {
     "name": "stderr",
     "output_type": "stream",
     "text": [
      "gdata: read.xls support for 'XLS' (Excel 97-2004) files ENABLED.\n",
      "\n",
      "gdata: read.xls support for 'XLSX' (Excel 2007+) files ENABLED.\n",
      "\n",
      "Attaching package: ‘gdata’\n",
      "\n",
      "The following object is masked from ‘package:stats’:\n",
      "\n",
      "    nobs\n",
      "\n",
      "The following object is masked from ‘package:utils’:\n",
      "\n",
      "    object.size\n",
      "\n",
      "The following object is masked from ‘package:base’:\n",
      "\n",
      "    startsWith\n",
      "\n",
      "\n",
      "Attaching package: ‘dplyr’\n",
      "\n",
      "The following objects are masked from ‘package:plyr’:\n",
      "\n",
      "    arrange, count, desc, failwith, id, mutate, rename, summarise,\n",
      "    summarize\n",
      "\n",
      "The following objects are masked from ‘package:gdata’:\n",
      "\n",
      "    combine, first, last\n",
      "\n",
      "The following objects are masked from ‘package:stats’:\n",
      "\n",
      "    filter, lag\n",
      "\n",
      "The following objects are masked from ‘package:base’:\n",
      "\n",
      "    intersect, setdiff, setequal, union\n",
      "\n",
      "\n",
      "Attaching package: ‘reshape’\n",
      "\n",
      "The following object is masked from ‘package:dplyr’:\n",
      "\n",
      "    rename\n",
      "\n",
      "The following objects are masked from ‘package:tidyr’:\n",
      "\n",
      "    expand, smiths\n",
      "\n",
      "The following objects are masked from ‘package:plyr’:\n",
      "\n",
      "    rename, round_any\n",
      "\n"
     ]
    }
   ],
   "source": [
    "library('gdata')\n",
    "library('plyr')\n",
    "library('tibble')\n",
    "library('tidyr')\n",
    "library('dplyr')\n",
    "library('reshape')"
   ]
  },
  {
   "cell_type": "markdown",
   "metadata": {},
   "source": [
    "# Importation données energie"
   ]
  },
  {
   "cell_type": "code",
   "execution_count": 2,
   "metadata": {},
   "outputs": [
    {
     "data": {
      "text/html": [
       "<ol class=list-inline>\n",
       "\t<li>'Mois'</li>\n",
       "\t<li>'Qualite'</li>\n",
       "\t<li>'Territoire'</li>\n",
       "\t<li>'Production.totale'</li>\n",
       "\t<li>'Production.nucleaire'</li>\n",
       "\t<li>'Production.thermique.totale'</li>\n",
       "\t<li>'Production.thermique.charbon'</li>\n",
       "\t<li>'Production.thermique.fioul'</li>\n",
       "\t<li>'Production.thermique.gaz'</li>\n",
       "\t<li>'Production.hydraulique'</li>\n",
       "\t<li>'Production.eolien'</li>\n",
       "\t<li>'Production.solaire'</li>\n",
       "\t<li>'Production.bio.energies'</li>\n",
       "\t<li>'Consommation.totale'</li>\n",
       "\t<li>'Solde.exportateur'</li>\n",
       "\t<li>'Echanges.export'</li>\n",
       "\t<li>'Echanges.import'</li>\n",
       "\t<li>'Echanges.avec.le.Royaume.uni'</li>\n",
       "\t<li>'Echanges.avec.l.Espagne'</li>\n",
       "\t<li>'Echanges.avec.l.Italie'</li>\n",
       "\t<li>'Echanges.aves.la.Suisse'</li>\n",
       "\t<li>'Echanges.avec.l.Allemagne.et.la.Belgique'</li>\n",
       "</ol>\n"
      ],
      "text/latex": [
       "\\begin{enumerate*}\n",
       "\\item 'Mois'\n",
       "\\item 'Qualite'\n",
       "\\item 'Territoire'\n",
       "\\item 'Production.totale'\n",
       "\\item 'Production.nucleaire'\n",
       "\\item 'Production.thermique.totale'\n",
       "\\item 'Production.thermique.charbon'\n",
       "\\item 'Production.thermique.fioul'\n",
       "\\item 'Production.thermique.gaz'\n",
       "\\item 'Production.hydraulique'\n",
       "\\item 'Production.eolien'\n",
       "\\item 'Production.solaire'\n",
       "\\item 'Production.bio.energies'\n",
       "\\item 'Consommation.totale'\n",
       "\\item 'Solde.exportateur'\n",
       "\\item 'Echanges.export'\n",
       "\\item 'Echanges.import'\n",
       "\\item 'Echanges.avec.le.Royaume.uni'\n",
       "\\item 'Echanges.avec.l.Espagne'\n",
       "\\item 'Echanges.avec.l.Italie'\n",
       "\\item 'Echanges.aves.la.Suisse'\n",
       "\\item 'Echanges.avec.l.Allemagne.et.la.Belgique'\n",
       "\\end{enumerate*}\n"
      ],
      "text/markdown": [
       "1. 'Mois'\n",
       "2. 'Qualite'\n",
       "3. 'Territoire'\n",
       "4. 'Production.totale'\n",
       "5. 'Production.nucleaire'\n",
       "6. 'Production.thermique.totale'\n",
       "7. 'Production.thermique.charbon'\n",
       "8. 'Production.thermique.fioul'\n",
       "9. 'Production.thermique.gaz'\n",
       "10. 'Production.hydraulique'\n",
       "11. 'Production.eolien'\n",
       "12. 'Production.solaire'\n",
       "13. 'Production.bio.energies'\n",
       "14. 'Consommation.totale'\n",
       "15. 'Solde.exportateur'\n",
       "16. 'Echanges.export'\n",
       "17. 'Echanges.import'\n",
       "18. 'Echanges.avec.le.Royaume.uni'\n",
       "19. 'Echanges.avec.l.Espagne'\n",
       "20. 'Echanges.avec.l.Italie'\n",
       "21. 'Echanges.aves.la.Suisse'\n",
       "22. 'Echanges.avec.l.Allemagne.et.la.Belgique'\n",
       "\n",
       "\n"
      ],
      "text/plain": [
       " [1] \"Mois\"                                    \n",
       " [2] \"Qualite\"                                 \n",
       " [3] \"Territoire\"                              \n",
       " [4] \"Production.totale\"                       \n",
       " [5] \"Production.nucleaire\"                    \n",
       " [6] \"Production.thermique.totale\"             \n",
       " [7] \"Production.thermique.charbon\"            \n",
       " [8] \"Production.thermique.fioul\"              \n",
       " [9] \"Production.thermique.gaz\"                \n",
       "[10] \"Production.hydraulique\"                  \n",
       "[11] \"Production.eolien\"                       \n",
       "[12] \"Production.solaire\"                      \n",
       "[13] \"Production.bio.energies\"                 \n",
       "[14] \"Consommation.totale\"                     \n",
       "[15] \"Solde.exportateur\"                       \n",
       "[16] \"Echanges.export\"                         \n",
       "[17] \"Echanges.import\"                         \n",
       "[18] \"Echanges.avec.le.Royaume.uni\"            \n",
       "[19] \"Echanges.avec.l.Espagne\"                 \n",
       "[20] \"Echanges.avec.l.Italie\"                  \n",
       "[21] \"Echanges.aves.la.Suisse\"                 \n",
       "[22] \"Echanges.avec.l.Allemagne.et.la.Belgique\""
      ]
     },
     "metadata": {},
     "output_type": "display_data"
    },
    {
     "name": "stdout",
     "output_type": "stream",
     "text": [
      "'data.frame':\t855 obs. of  22 variables:\n",
      " $ Mois                                    : chr  \"2010-01\" \"2010-02\" \"2010-03\" \"2010-04\" ...\n",
      " $ Qualite                                 : chr  \"Donnees consolidees\" \"Donnees consolidees\" \"Donnees consolidees\" \"Donnees consolidees\" ...\n",
      " $ Territoire                              : chr  \"France\" \"France\" \"France\" \"France\" ...\n",
      " $ Production.totale                       : int  56542 50406 51071 41693 39847 40217 41064 39499 39218 42116 ...\n",
      " $ Production.nucleaire                    : int  40313 36316 35984 31294 29372 29575 31744 32391 31657 31885 ...\n",
      " $ Production.thermique.totale             : int  8801 6822 7250 3568 2843 2366 2953 1580 2965 4713 ...\n",
      " $ Production.thermique.charbon            : int  2928 1893 1994 1489 1097 681 1056 249 1226 1831 ...\n",
      " $ Production.thermique.fioul              : int  1690 1175 1275 612 504 463 511 424 502 896 ...\n",
      " $ Production.thermique.gaz                : int  4184 3754 3981 1467 1242 1223 1386 907 1236 1986 ...\n",
      " $ Production.hydraulique                  : int  6307 5887 6204 5684 6428 7263 5410 4348 3594 4023 ...\n",
      " $ Production.eolien                       : int  688 980 1175 731 743 581 488 684 569 1075 ...\n",
      " $ Production.solaire                      : int  10 16 31 45 54 55 69 74 74 58 ...\n",
      " $ Production.bio.energies                 : int  423 386 428 370 408 378 400 421 359 361 ...\n",
      " $ Consommation.totale                     : int  56342 48698 48294 38637 37284 34567 36031 33069 35104 40918 ...\n",
      " $ Solde.exportateur                       : int  -489 1008 2044 2484 2075 5187 4489 5796 3511 450 ...\n",
      " $ Echanges.export                         : int  4295 4709 5506 5196 5221 6971 6811 6902 5642 4723 ...\n",
      " $ Echanges.import                         : int  4784 3700 3462 2711 3145 1783 2322 1105 2131 4272 ...\n",
      " $ Echanges.avec.le.Royaume.uni            : int  -652 -497 -365 67 486 979 1013 1293 473 -353 ...\n",
      " $ Echanges.avec.l.Espagne                 : int  -358 -333 -360 -337 -147 11 32 377 70 -156 ...\n",
      " $ Echanges.avec.l.Italie                  : int  1297 1628 1784 1522 1229 1465 1632 828 1329 1274 ...\n",
      " $ Echanges.aves.la.Suisse                 : int  1613 1752 2022 1900 1287 1578 1412 2021 1595 1323 ...\n",
      " $ Echanges.avec.l.Allemagne.et.la.Belgique: int  -2390 -1541 -1037 -667 -780 1154 400 1276 44 -1637 ...\n"
     ]
    }
   ],
   "source": [
    "df_energie <- as.data.frame(read.xls('../fichiers_csv/energie.xls'))\n",
    "colnames(df_energie)\n",
    "df_energie$Mois <- as.vector(df_energie$Mois)\n",
    "df_energie$Qualite <- as.vector(df_energie$Qualite)\n",
    "df_energie$Territoire <- as.vector(df_energie$Territoire)\n",
    "\n",
    "str(df_energie)\n"
   ]
  },
  {
   "cell_type": "code",
   "execution_count": 3,
   "metadata": {},
   "outputs": [],
   "source": [
    "df_energie <- df_energie %>% \n",
    "  select(Mois, Territoire, Consommation.totale) %>%\n",
    "  filter(Territoire == \"France\")"
   ]
  },
  {
   "cell_type": "code",
   "execution_count": 4,
   "metadata": {},
   "outputs": [],
   "source": [
    "mois = rep(c('JAN','FEV','MAR','AVR','MAI','JUIN','JUIL','AOUT','SEP','OCT','NOV','DEC'),8)\n",
    "annee = c(rep('2010',12),rep('2011',12),rep('2012',12),rep('2013',12),rep('2014',12),rep('2015',12),rep('2016',12),rep('2017',12))"
   ]
  },
  {
   "cell_type": "code",
   "execution_count": 5,
   "metadata": {},
   "outputs": [],
   "source": [
    "df_energie <- df_energie[1:96,]\n",
    "df_energie <- cbind.data.frame(df_energie,mois,annee)\n",
    "df_energie$mois <- as.vector(df_energie$mois)\n",
    "df_energie$annee <- as.vector(df_energie$annee)\n"
   ]
  },
  {
   "cell_type": "code",
   "execution_count": 6,
   "metadata": {},
   "outputs": [],
   "source": [
    "df_energie <- df_energie[,c(\"annee\", \"mois\", \"Consommation.totale\", \"Mois\",\"Territoire\")]"
   ]
  },
  {
   "cell_type": "code",
   "execution_count": 7,
   "metadata": {},
   "outputs": [],
   "source": [
    "df_energie <- cast(df_energie,annee ~ mois,value='Consommation.totale',sum)\n",
    "df_energie <- df_energie[,c(\"annee\", 'JAN','FEV','MAR','AVR','MAI','JUIN','JUIL','AOUT','SEP','OCT','NOV','DEC')]"
   ]
  },
  {
   "cell_type": "code",
   "execution_count": 8,
   "metadata": {},
   "outputs": [
    {
     "data": {
      "text/html": [
       "<table>\n",
       "<thead><tr><th scope=col>annee</th><th scope=col>JAN</th><th scope=col>FEV</th><th scope=col>MAR</th><th scope=col>AVR</th><th scope=col>MAI</th><th scope=col>JUIN</th><th scope=col>JUIL</th><th scope=col>AOUT</th><th scope=col>SEP</th><th scope=col>OCT</th><th scope=col>NOV</th><th scope=col>DEC</th></tr></thead>\n",
       "<tbody>\n",
       "\t<tr><td>2010 </td><td>56342</td><td>48698</td><td>48294</td><td>38637</td><td>37284</td><td>34567</td><td>36031</td><td>33069</td><td>35104</td><td>40918</td><td>46532</td><td>57600</td></tr>\n",
       "\t<tr><td>2011 </td><td>53873</td><td>45937</td><td>45543</td><td>35442</td><td>35107</td><td>33771</td><td>34204</td><td>32625</td><td>34230</td><td>37977</td><td>41837</td><td>48241</td></tr>\n",
       "\t<tr><td>2012 </td><td>51086</td><td>54476</td><td>43156</td><td>40176</td><td>35257</td><td>33219</td><td>34141</td><td>32247</td><td>33269</td><td>38628</td><td>44260</td><td>49602</td></tr>\n",
       "\t<tr><td>2013 </td><td>53619</td><td>49639</td><td>49480</td><td>40292</td><td>36821</td><td>32973</td><td>34751</td><td>31591</td><td>33195</td><td>37063</td><td>45310</td><td>50108</td></tr>\n",
       "\t<tr><td>2014 </td><td>49359</td><td>44580</td><td>43104</td><td>36331</td><td>34695</td><td>32608</td><td>33935</td><td>31004</td><td>33266</td><td>36301</td><td>40617</td><td>49350</td></tr>\n",
       "\t<tr><td>2015 </td><td>52536</td><td>48676</td><td>45739</td><td>36898</td><td>33927</td><td>33256</td><td>34912</td><td>31603</td><td>33521</td><td>39170</td><td>41085</td><td>44727</td></tr>\n",
       "\t<tr><td>2016 </td><td>50161</td><td>46440</td><td>47270</td><td>39102</td><td>34746</td><td>32852</td><td>33718</td><td>32132</td><td>33245</td><td>38590</td><td>44293</td><td>50670</td></tr>\n",
       "\t<tr><td>2017 </td><td>57434</td><td>43923</td><td>42734</td><td>36669</td><td>35048</td><td>33396</td><td>33905</td><td>32125</td><td>33653</td><td>36625</td><td>44920</td><td>51549</td></tr>\n",
       "</tbody>\n",
       "</table>\n"
      ],
      "text/latex": [
       "\\begin{tabular}{r|lllllllllllll}\n",
       " annee & JAN & FEV & MAR & AVR & MAI & JUIN & JUIL & AOUT & SEP & OCT & NOV & DEC\\\\\n",
       "\\hline\n",
       "\t 2010  & 56342 & 48698 & 48294 & 38637 & 37284 & 34567 & 36031 & 33069 & 35104 & 40918 & 46532 & 57600\\\\\n",
       "\t 2011  & 53873 & 45937 & 45543 & 35442 & 35107 & 33771 & 34204 & 32625 & 34230 & 37977 & 41837 & 48241\\\\\n",
       "\t 2012  & 51086 & 54476 & 43156 & 40176 & 35257 & 33219 & 34141 & 32247 & 33269 & 38628 & 44260 & 49602\\\\\n",
       "\t 2013  & 53619 & 49639 & 49480 & 40292 & 36821 & 32973 & 34751 & 31591 & 33195 & 37063 & 45310 & 50108\\\\\n",
       "\t 2014  & 49359 & 44580 & 43104 & 36331 & 34695 & 32608 & 33935 & 31004 & 33266 & 36301 & 40617 & 49350\\\\\n",
       "\t 2015  & 52536 & 48676 & 45739 & 36898 & 33927 & 33256 & 34912 & 31603 & 33521 & 39170 & 41085 & 44727\\\\\n",
       "\t 2016  & 50161 & 46440 & 47270 & 39102 & 34746 & 32852 & 33718 & 32132 & 33245 & 38590 & 44293 & 50670\\\\\n",
       "\t 2017  & 57434 & 43923 & 42734 & 36669 & 35048 & 33396 & 33905 & 32125 & 33653 & 36625 & 44920 & 51549\\\\\n",
       "\\end{tabular}\n"
      ],
      "text/markdown": [
       "\n",
       "annee | JAN | FEV | MAR | AVR | MAI | JUIN | JUIL | AOUT | SEP | OCT | NOV | DEC | \n",
       "|---|---|---|---|---|---|---|---|\n",
       "| 2010  | 56342 | 48698 | 48294 | 38637 | 37284 | 34567 | 36031 | 33069 | 35104 | 40918 | 46532 | 57600 | \n",
       "| 2011  | 53873 | 45937 | 45543 | 35442 | 35107 | 33771 | 34204 | 32625 | 34230 | 37977 | 41837 | 48241 | \n",
       "| 2012  | 51086 | 54476 | 43156 | 40176 | 35257 | 33219 | 34141 | 32247 | 33269 | 38628 | 44260 | 49602 | \n",
       "| 2013  | 53619 | 49639 | 49480 | 40292 | 36821 | 32973 | 34751 | 31591 | 33195 | 37063 | 45310 | 50108 | \n",
       "| 2014  | 49359 | 44580 | 43104 | 36331 | 34695 | 32608 | 33935 | 31004 | 33266 | 36301 | 40617 | 49350 | \n",
       "| 2015  | 52536 | 48676 | 45739 | 36898 | 33927 | 33256 | 34912 | 31603 | 33521 | 39170 | 41085 | 44727 | \n",
       "| 2016  | 50161 | 46440 | 47270 | 39102 | 34746 | 32852 | 33718 | 32132 | 33245 | 38590 | 44293 | 50670 | \n",
       "| 2017  | 57434 | 43923 | 42734 | 36669 | 35048 | 33396 | 33905 | 32125 | 33653 | 36625 | 44920 | 51549 | \n",
       "\n",
       "\n"
      ],
      "text/plain": [
       "  annee JAN   FEV   MAR   AVR   MAI   JUIN  JUIL  AOUT  SEP   OCT   NOV   DEC  \n",
       "1 2010  56342 48698 48294 38637 37284 34567 36031 33069 35104 40918 46532 57600\n",
       "2 2011  53873 45937 45543 35442 35107 33771 34204 32625 34230 37977 41837 48241\n",
       "3 2012  51086 54476 43156 40176 35257 33219 34141 32247 33269 38628 44260 49602\n",
       "4 2013  53619 49639 49480 40292 36821 32973 34751 31591 33195 37063 45310 50108\n",
       "5 2014  49359 44580 43104 36331 34695 32608 33935 31004 33266 36301 40617 49350\n",
       "6 2015  52536 48676 45739 36898 33927 33256 34912 31603 33521 39170 41085 44727\n",
       "7 2016  50161 46440 47270 39102 34746 32852 33718 32132 33245 38590 44293 50670\n",
       "8 2017  57434 43923 42734 36669 35048 33396 33905 32125 33653 36625 44920 51549"
      ]
     },
     "metadata": {},
     "output_type": "display_data"
    }
   ],
   "source": [
    "df_energie"
   ]
  },
  {
   "cell_type": "markdown",
   "metadata": {},
   "source": [
    "# Importation données météo"
   ]
  },
  {
   "cell_type": "code",
   "execution_count": 9,
   "metadata": {
    "nbpresent": {
     "id": "bc679caa-2400-404d-8814-e5d385ee4c7e"
    }
   },
   "outputs": [],
   "source": [
    "files_to_read <- list.files(path = '../fichiers_csv/meteo_data',full.names = TRUE)\n"
   ]
  },
  {
   "cell_type": "code",
   "execution_count": 10,
   "metadata": {
    "nbpresent": {
     "id": "95cb1119-bf8f-4b23-a6f2-a42cc0ccb877"
    }
   },
   "outputs": [],
   "source": [
    "\n",
    "liste_meteo <- lapply(files_to_read,function(i){\n",
    "    list_csv <- read.xls(i)\n",
    "\n",
    "    \n",
    "})"
   ]
  },
  {
   "cell_type": "code",
   "execution_count": 11,
   "metadata": {
    "nbpresent": {
     "id": "1070674c-b991-47c1-9402-9ca8ab9a794c"
    }
   },
   "outputs": [],
   "source": [
    "df_meteo <- lapply(liste_meteo,function(i){\n",
    "    a <- data.frame(i,stringsAsFactors = FALSE)\n",
    "\n",
    "station <- as.vector(a[1,'X.1'])\n",
    "\n",
    "mat <- as.matrix(a)\n",
    "mat <- mat[-c(1,2,3,4,5,6,7),]\n",
    "colnames(mat) <- mat[1,]\n",
    "mat <- mat[-1,]\n",
    "colnames(mat)[1] <- 'Annee'\n",
    "nb_row <- length(mat[,'Annee'])\n",
    "mat<- cbind(rep(station,nb_row),mat)\n",
    "colnames(mat)[1] <- 'Station'\n",
    "as.data.frame(mat,stringsAsFactors = FALSE)\n",
    "mat[1:7,] #Valeur manquantes en 2017\n",
    "})"
   ]
  },
  {
   "cell_type": "code",
   "execution_count": 12,
   "metadata": {
    "nbpresent": {
     "id": "3d3278b6-8de0-44dd-a292-15d06bd714f6"
    }
   },
   "outputs": [],
   "source": [
    "df_base_meteo <- ldply(df_meteo, rbind)\n",
    "df_base_meteo <- rename(df_base_meteo,c('Station' = 'station','Annee'='annee','JAN'='JAN','F\\xc9V'='FEV','MAR'='MAR','AVR'='AVR','MAI'='MAI','JUN'='JUN','JUI'='JUI','AO\\xdb'='AOU','SEP'='SEP','OCT'='OCT','NOV'='NOV','D\\xc9C'='DEC','Total'='total'))\n"
   ]
  },
  {
   "cell_type": "code",
   "execution_count": 13,
   "metadata": {},
   "outputs": [
    {
     "name": "stderr",
     "output_type": "stream",
     "text": [
      "Warning message in eval(expr, envir, enclos):\n",
      "“NAs introduits lors de la conversion automatique”"
     ]
    }
   ],
   "source": [
    "df_base_meteo[] <- as.vector(unlist(df_base_meteo, use.names = FALSE))\n",
    "df_base_meteo[-2] <- as.numeric(unlist(df_base_meteo[-2], use.names = FALSE))"
   ]
  },
  {
   "cell_type": "code",
   "execution_count": 14,
   "metadata": {},
   "outputs": [],
   "source": [
    "df_base_meteo <- ddply(df_base_meteo,~annee,summarise, JAN = mean(JAN),\n",
    "      FEV = mean(FEV),\n",
    "      MAR = mean(MAR),\n",
    "      AVR = mean(AVR),\n",
    "MAI = mean(MAI),\n",
    "JUN = mean(JUN),\n",
    "JUI = mean(JUI),\n",
    "AOU = mean(AOU),\n",
    "SEP = mean(SEP),\n",
    "OCT = mean(OCT),\n",
    "NOV = mean(NOV),\n",
    "DEC = mean(DEC))\n"
   ]
  },
  {
   "cell_type": "code",
   "execution_count": 15,
   "metadata": {},
   "outputs": [
    {
     "data": {
      "text/html": [
       "<table>\n",
       "<thead><tr><th scope=col>annee</th><th scope=col>JAN</th><th scope=col>FEV</th><th scope=col>MAR</th><th scope=col>AVR</th><th scope=col>MAI</th><th scope=col>JUN</th><th scope=col>JUI</th><th scope=col>AOU</th><th scope=col>SEP</th><th scope=col>OCT</th><th scope=col>NOV</th><th scope=col>DEC</th></tr></thead>\n",
       "<tbody>\n",
       "\t<tr><td>2010     </td><td>484.9267 </td><td>369.9756 </td><td>317.2278 </td><td>189.6422 </td><td>154.08889</td><td>40.69889 </td><td> 5.656667</td><td>22.85444 </td><td>75.07222 </td><td>184.95667</td><td>303.3189 </td><td>478.8556 </td></tr>\n",
       "\t<tr><td>2011     </td><td>406.2789 </td><td>313.8867 </td><td>273.3411 </td><td>121.5056 </td><td> 70.45333</td><td>46.10111 </td><td>32.323333</td><td>19.43889 </td><td>32.31667 </td><td>136.76111</td><td>220.3189 </td><td>326.8511 </td></tr>\n",
       "\t<tr><td>2012     </td><td>373.1278 </td><td>478.2522 </td><td>245.1367 </td><td>237.8778 </td><td>103.84111</td><td>41.35444 </td><td>24.552222</td><td> 8.21000 </td><td>67.81889 </td><td>152.04111</td><td>282.9667 </td><td>363.1200 </td></tr>\n",
       "\t<tr><td>2013     </td><td>429.6233 </td><td>413.0800 </td><td>353.4844 </td><td>231.2144 </td><td>186.51889</td><td>61.25778 </td><td> 5.921111</td><td>13.47556 </td><td>53.80667 </td><td>112.49667</td><td>321.7444 </td><td>379.1200 </td></tr>\n",
       "\t<tr><td>2014     </td><td>341.1244 </td><td>302.5311 </td><td>274.3767 </td><td>171.0933 </td><td>130.10000</td><td>30.49000 </td><td>15.743333</td><td>32.52667 </td><td>35.64222 </td><td> 96.57444</td><td>221.9400 </td><td>384.3467 </td></tr>\n",
       "\t<tr><td>2015     </td><td>406.9656 </td><td>387.6867 </td><td>296.7800 </td><td>180.4811 </td><td>107.18111</td><td>27.36556 </td><td>11.420000</td><td>13.06667 </td><td>85.59333 </td><td>189.47000</td><td>223.8689 </td><td>279.3678 </td></tr>\n",
       "\t<tr><td>2016     </td><td>361.8989 </td><td>329.3178 </td><td>334.9833 </td><td>229.5767 </td><td>121.88111</td><td>39.40111 </td><td>14.776667</td><td>11.26111 </td><td>28.29556 </td><td>190.01556</td><td>292.3822 </td><td>401.0267 </td></tr>\n",
       "</tbody>\n",
       "</table>\n"
      ],
      "text/latex": [
       "\\begin{tabular}{r|lllllllllllll}\n",
       " annee & JAN & FEV & MAR & AVR & MAI & JUN & JUI & AOU & SEP & OCT & NOV & DEC\\\\\n",
       "\\hline\n",
       "\t 2010      & 484.9267  & 369.9756  & 317.2278  & 189.6422  & 154.08889 & 40.69889  &  5.656667 & 22.85444  & 75.07222  & 184.95667 & 303.3189  & 478.8556 \\\\\n",
       "\t 2011      & 406.2789  & 313.8867  & 273.3411  & 121.5056  &  70.45333 & 46.10111  & 32.323333 & 19.43889  & 32.31667  & 136.76111 & 220.3189  & 326.8511 \\\\\n",
       "\t 2012      & 373.1278  & 478.2522  & 245.1367  & 237.8778  & 103.84111 & 41.35444  & 24.552222 &  8.21000  & 67.81889  & 152.04111 & 282.9667  & 363.1200 \\\\\n",
       "\t 2013      & 429.6233  & 413.0800  & 353.4844  & 231.2144  & 186.51889 & 61.25778  &  5.921111 & 13.47556  & 53.80667  & 112.49667 & 321.7444  & 379.1200 \\\\\n",
       "\t 2014      & 341.1244  & 302.5311  & 274.3767  & 171.0933  & 130.10000 & 30.49000  & 15.743333 & 32.52667  & 35.64222  &  96.57444 & 221.9400  & 384.3467 \\\\\n",
       "\t 2015      & 406.9656  & 387.6867  & 296.7800  & 180.4811  & 107.18111 & 27.36556  & 11.420000 & 13.06667  & 85.59333  & 189.47000 & 223.8689  & 279.3678 \\\\\n",
       "\t 2016      & 361.8989  & 329.3178  & 334.9833  & 229.5767  & 121.88111 & 39.40111  & 14.776667 & 11.26111  & 28.29556  & 190.01556 & 292.3822  & 401.0267 \\\\\n",
       "\\end{tabular}\n"
      ],
      "text/markdown": [
       "\n",
       "annee | JAN | FEV | MAR | AVR | MAI | JUN | JUI | AOU | SEP | OCT | NOV | DEC | \n",
       "|---|---|---|---|---|---|---|\n",
       "| 2010      | 484.9267  | 369.9756  | 317.2278  | 189.6422  | 154.08889 | 40.69889  |  5.656667 | 22.85444  | 75.07222  | 184.95667 | 303.3189  | 478.8556  | \n",
       "| 2011      | 406.2789  | 313.8867  | 273.3411  | 121.5056  |  70.45333 | 46.10111  | 32.323333 | 19.43889  | 32.31667  | 136.76111 | 220.3189  | 326.8511  | \n",
       "| 2012      | 373.1278  | 478.2522  | 245.1367  | 237.8778  | 103.84111 | 41.35444  | 24.552222 |  8.21000  | 67.81889  | 152.04111 | 282.9667  | 363.1200  | \n",
       "| 2013      | 429.6233  | 413.0800  | 353.4844  | 231.2144  | 186.51889 | 61.25778  |  5.921111 | 13.47556  | 53.80667  | 112.49667 | 321.7444  | 379.1200  | \n",
       "| 2014      | 341.1244  | 302.5311  | 274.3767  | 171.0933  | 130.10000 | 30.49000  | 15.743333 | 32.52667  | 35.64222  |  96.57444 | 221.9400  | 384.3467  | \n",
       "| 2015      | 406.9656  | 387.6867  | 296.7800  | 180.4811  | 107.18111 | 27.36556  | 11.420000 | 13.06667  | 85.59333  | 189.47000 | 223.8689  | 279.3678  | \n",
       "| 2016      | 361.8989  | 329.3178  | 334.9833  | 229.5767  | 121.88111 | 39.40111  | 14.776667 | 11.26111  | 28.29556  | 190.01556 | 292.3822  | 401.0267  | \n",
       "\n",
       "\n"
      ],
      "text/plain": [
       "  annee JAN      FEV      MAR      AVR      MAI       JUN      JUI      \n",
       "1 2010  484.9267 369.9756 317.2278 189.6422 154.08889 40.69889  5.656667\n",
       "2 2011  406.2789 313.8867 273.3411 121.5056  70.45333 46.10111 32.323333\n",
       "3 2012  373.1278 478.2522 245.1367 237.8778 103.84111 41.35444 24.552222\n",
       "4 2013  429.6233 413.0800 353.4844 231.2144 186.51889 61.25778  5.921111\n",
       "5 2014  341.1244 302.5311 274.3767 171.0933 130.10000 30.49000 15.743333\n",
       "6 2015  406.9656 387.6867 296.7800 180.4811 107.18111 27.36556 11.420000\n",
       "7 2016  361.8989 329.3178 334.9833 229.5767 121.88111 39.40111 14.776667\n",
       "  AOU      SEP      OCT       NOV      DEC     \n",
       "1 22.85444 75.07222 184.95667 303.3189 478.8556\n",
       "2 19.43889 32.31667 136.76111 220.3189 326.8511\n",
       "3  8.21000 67.81889 152.04111 282.9667 363.1200\n",
       "4 13.47556 53.80667 112.49667 321.7444 379.1200\n",
       "5 32.52667 35.64222  96.57444 221.9400 384.3467\n",
       "6 13.06667 85.59333 189.47000 223.8689 279.3678\n",
       "7 11.26111 28.29556 190.01556 292.3822 401.0267"
      ]
     },
     "metadata": {},
     "output_type": "display_data"
    }
   ],
   "source": [
    "df_base_meteo"
   ]
  },
  {
   "cell_type": "markdown",
   "metadata": {},
   "source": [
    "# Série temporelles"
   ]
  },
  {
   "cell_type": "markdown",
   "metadata": {},
   "source": [
    "## Conso d'energie"
   ]
  },
  {
   "cell_type": "code",
   "execution_count": 55,
   "metadata": {},
   "outputs": [],
   "source": [
    "df_energie_ts <- ts(as.vector(as.matrix(df_energie[-1])),start=c(2010,1),frequency = 12)\n",
    "log_df_energie_ts = log(df_energie_ts)"
   ]
  },
  {
   "cell_type": "code",
   "execution_count": 51,
   "metadata": {},
   "outputs": [
    {
     "data": {
      "image/png": "[encoded data removed]",
      "text/plain": [
       "plot without title"
      ]
     },
     "metadata": {},
     "output_type": "display_data"
    }
   ],
   "source": [
    "plot(df_energie_ts,ylab='Conso mensuelle')"
   ]
  },
  {
   "cell_type": "markdown",
   "metadata": {},
   "source": [
    "# Effet meteo dju"
   ]
  },
  {
   "cell_type": "code",
   "execution_count": 54,
   "metadata": {},
   "outputs": [],
   "source": [
    "df_base_meteo_ts <- ts(as.vector(as.matrix(df_base_meteo[-1])),start=c(2010,1),frequency = 12)\n",
    "log_df_base_meteo_ts = log(df_base_meteo_ts)"
   ]
  },
  {
   "cell_type": "code",
   "execution_count": 53,
   "metadata": {},
   "outputs": [
    {
     "data": {
      "image/png": "[encoded data removed]",
      "text/plain": [
       "plot without title"
      ]
     },
     "metadata": {},
     "output_type": "display_data"
    }
   ],
   "source": [
    "plot(df_base_meteo_ts,ylab='Effet météo')"
   ]
  },
  {
   "cell_type": "markdown",
   "metadata": {},
   "source": [
    "# Mission 1 : Corrigez les données de consommation mensuelles de l'effet température (dues au chauffage électrique) en utilisant une régression linéaire."
   ]
  },
  {
   "cell_type": "code",
   "execution_count": 58,
   "metadata": {},
   "outputs": [],
   "source": [
    "## Il faut décomposer la tendance et la saisonnalité dans des bases que l'on pourra estimer par régression lin\n",
    "\n",
    "# Création de la base tendancielle et saisonnière\n",
    "## Base tendancielle \n",
    "t=1:84\n",
    "\n",
    "\n"
   ]
  },
  {
   "cell_type": "code",
   "execution_count": 61,
   "metadata": {},
   "outputs": [
    {
     "data": {
      "text/html": [
       "<ol class=list-inline>\n",
       "\t<li>1</li>\n",
       "\t<li>2</li>\n",
       "\t<li>3</li>\n",
       "\t<li>4</li>\n",
       "\t<li>5</li>\n",
       "\t<li>6</li>\n",
       "\t<li>7</li>\n",
       "\t<li>8</li>\n",
       "\t<li>9</li>\n",
       "\t<li>10</li>\n",
       "\t<li>11</li>\n",
       "\t<li>12</li>\n",
       "\t<li>13</li>\n",
       "\t<li>14</li>\n",
       "\t<li>15</li>\n",
       "\t<li>16</li>\n",
       "\t<li>17</li>\n",
       "\t<li>18</li>\n",
       "\t<li>19</li>\n",
       "\t<li>20</li>\n",
       "\t<li>21</li>\n",
       "\t<li>22</li>\n",
       "\t<li>23</li>\n",
       "\t<li>24</li>\n",
       "\t<li>25</li>\n",
       "\t<li>26</li>\n",
       "\t<li>27</li>\n",
       "\t<li>28</li>\n",
       "\t<li>29</li>\n",
       "\t<li>30</li>\n",
       "\t<li>31</li>\n",
       "\t<li>32</li>\n",
       "\t<li>33</li>\n",
       "\t<li>34</li>\n",
       "\t<li>35</li>\n",
       "\t<li>36</li>\n",
       "\t<li>37</li>\n",
       "\t<li>38</li>\n",
       "\t<li>39</li>\n",
       "\t<li>40</li>\n",
       "\t<li>41</li>\n",
       "\t<li>42</li>\n",
       "\t<li>43</li>\n",
       "\t<li>44</li>\n",
       "\t<li>45</li>\n",
       "\t<li>46</li>\n",
       "\t<li>47</li>\n",
       "\t<li>48</li>\n",
       "\t<li>49</li>\n",
       "\t<li>50</li>\n",
       "\t<li>51</li>\n",
       "\t<li>52</li>\n",
       "\t<li>53</li>\n",
       "\t<li>54</li>\n",
       "\t<li>55</li>\n",
       "\t<li>56</li>\n",
       "\t<li>57</li>\n",
       "\t<li>58</li>\n",
       "\t<li>59</li>\n",
       "\t<li>60</li>\n",
       "\t<li>61</li>\n",
       "\t<li>62</li>\n",
       "\t<li>63</li>\n",
       "\t<li>64</li>\n",
       "\t<li>65</li>\n",
       "\t<li>66</li>\n",
       "\t<li>67</li>\n",
       "\t<li>68</li>\n",
       "\t<li>69</li>\n",
       "\t<li>70</li>\n",
       "\t<li>71</li>\n",
       "\t<li>72</li>\n",
       "\t<li>73</li>\n",
       "\t<li>74</li>\n",
       "\t<li>75</li>\n",
       "\t<li>76</li>\n",
       "\t<li>77</li>\n",
       "\t<li>78</li>\n",
       "\t<li>79</li>\n",
       "\t<li>80</li>\n",
       "\t<li>81</li>\n",
       "\t<li>82</li>\n",
       "\t<li>83</li>\n",
       "\t<li>84</li>\n",
       "</ol>\n"
      ],
      "text/latex": [
       "\\begin{enumerate*}\n",
       "\\item 1\n",
       "\\item 2\n",
       "\\item 3\n",
       "\\item 4\n",
       "\\item 5\n",
       "\\item 6\n",
       "\\item 7\n",
       "\\item 8\n",
       "\\item 9\n",
       "\\item 10\n",
       "\\item 11\n",
       "\\item 12\n",
       "\\item 13\n",
       "\\item 14\n",
       "\\item 15\n",
       "\\item 16\n",
       "\\item 17\n",
       "\\item 18\n",
       "\\item 19\n",
       "\\item 20\n",
       "\\item 21\n",
       "\\item 22\n",
       "\\item 23\n",
       "\\item 24\n",
       "\\item 25\n",
       "\\item 26\n",
       "\\item 27\n",
       "\\item 28\n",
       "\\item 29\n",
       "\\item 30\n",
       "\\item 31\n",
       "\\item 32\n",
       "\\item 33\n",
       "\\item 34\n",
       "\\item 35\n",
       "\\item 36\n",
       "\\item 37\n",
       "\\item 38\n",
       "\\item 39\n",
       "\\item 40\n",
       "\\item 41\n",
       "\\item 42\n",
       "\\item 43\n",
       "\\item 44\n",
       "\\item 45\n",
       "\\item 46\n",
       "\\item 47\n",
       "\\item 48\n",
       "\\item 49\n",
       "\\item 50\n",
       "\\item 51\n",
       "\\item 52\n",
       "\\item 53\n",
       "\\item 54\n",
       "\\item 55\n",
       "\\item 56\n",
       "\\item 57\n",
       "\\item 58\n",
       "\\item 59\n",
       "\\item 60\n",
       "\\item 61\n",
       "\\item 62\n",
       "\\item 63\n",
       "\\item 64\n",
       "\\item 65\n",
       "\\item 66\n",
       "\\item 67\n",
       "\\item 68\n",
       "\\item 69\n",
       "\\item 70\n",
       "\\item 71\n",
       "\\item 72\n",
       "\\item 73\n",
       "\\item 74\n",
       "\\item 75\n",
       "\\item 76\n",
       "\\item 77\n",
       "\\item 78\n",
       "\\item 79\n",
       "\\item 80\n",
       "\\item 81\n",
       "\\item 82\n",
       "\\item 83\n",
       "\\item 84\n",
       "\\end{enumerate*}\n"
      ],
      "text/markdown": [
       "1. 1\n",
       "2. 2\n",
       "3. 3\n",
       "4. 4\n",
       "5. 5\n",
       "6. 6\n",
       "7. 7\n",
       "8. 8\n",
       "9. 9\n",
       "10. 10\n",
       "11. 11\n",
       "12. 12\n",
       "13. 13\n",
       "14. 14\n",
       "15. 15\n",
       "16. 16\n",
       "17. 17\n",
       "18. 18\n",
       "19. 19\n",
       "20. 20\n",
       "21. 21\n",
       "22. 22\n",
       "23. 23\n",
       "24. 24\n",
       "25. 25\n",
       "26. 26\n",
       "27. 27\n",
       "28. 28\n",
       "29. 29\n",
       "30. 30\n",
       "31. 31\n",
       "32. 32\n",
       "33. 33\n",
       "34. 34\n",
       "35. 35\n",
       "36. 36\n",
       "37. 37\n",
       "38. 38\n",
       "39. 39\n",
       "40. 40\n",
       "41. 41\n",
       "42. 42\n",
       "43. 43\n",
       "44. 44\n",
       "45. 45\n",
       "46. 46\n",
       "47. 47\n",
       "48. 48\n",
       "49. 49\n",
       "50. 50\n",
       "51. 51\n",
       "52. 52\n",
       "53. 53\n",
       "54. 54\n",
       "55. 55\n",
       "56. 56\n",
       "57. 57\n",
       "58. 58\n",
       "59. 59\n",
       "60. 60\n",
       "61. 61\n",
       "62. 62\n",
       "63. 63\n",
       "64. 64\n",
       "65. 65\n",
       "66. 66\n",
       "67. 67\n",
       "68. 68\n",
       "69. 69\n",
       "70. 70\n",
       "71. 71\n",
       "72. 72\n",
       "73. 73\n",
       "74. 74\n",
       "75. 75\n",
       "76. 76\n",
       "77. 77\n",
       "78. 78\n",
       "79. 79\n",
       "80. 80\n",
       "81. 81\n",
       "82. 82\n",
       "83. 83\n",
       "84. 84\n",
       "\n",
       "\n"
      ],
      "text/plain": [
       " [1]  1  2  3  4  5  6  7  8  9 10 11 12 13 14 15 16 17 18 19 20 21 22 23 24 25\n",
       "[26] 26 27 28 29 30 31 32 33 34 35 36 37 38 39 40 41 42 43 44 45 46 47 48 49 50\n",
       "[51] 51 52 53 54 55 56 57 58 59 60 61 62 63 64 65 66 67 68 69 70 71 72 73 74 75\n",
       "[76] 76 77 78 79 80 81 82 83 84"
      ]
     },
     "metadata": {},
     "output_type": "display_data"
    }
   ],
   "source": [
    "t"
   ]
  },
  {
   "cell_type": "code",
   "execution_count": 59,
   "metadata": {},
   "outputs": [],
   "source": [
    "## Base saisonnière\n",
    "### On va crée 12 indicatrices qui vont contenir des 1 sur chacun des mois\n",
    "\n",
    "for (i in 1:12)\n",
    "{\n",
    "  su=rep(0,times=12)\n",
    "  su[i]=1\n",
    "  s=rep(su,times=12)\n",
    "  assign(paste(\"s\",i,sep=\"\"),s)\n",
    "}\n",
    "\n"
   ]
  },
  {
   "cell_type": "code",
   "execution_count": null,
   "metadata": {},
   "outputs": [],
   "source": [
    "# On effectue la régression linéaire (le modèle a été transformé afin de palier au prob de colinéarité) sur la série Yt\n",
    "## Note : Colinéarité = En algèbre linéaire, deux vecteurs u et v d'un espace vectoriel E sont colinéaires s'il existe un scalaire k tel que u = kv ou v = ku. \n",
    "reg=lm(y~t+s1+s2+s3+s4+s5+s6+s7+s8+s9+s10+s11+s12-1)\n",
    "summary(reg)\n",
    "\n",
    "## Affichage des coefficients\n",
    "reg$coefficients\n",
    "\n",
    "## Coefficients initiaux\n",
    "a=mean(reg$coefficients[2:13])\n",
    "b=reg$coefficients[1]\n",
    "c=reg$coefficients[2:13]-mean(reg$coefficients[2:13])\n",
    "\n"
   ]
  },
  {
   "cell_type": "code",
   "execution_count": null,
   "metadata": {},
   "outputs": [],
   "source": [
    "# On calcule la série corrigée des variations saisonnières (en n'oubliant pas de passer à l'exponentiel pour revenir à Xt)\n",
    "y_cvs=y-(c[1]*s1+c[2]*s2+c[3]*s3+c[4]*s4+c[5]*s5+c[6]*s6+c[7]*s7+c[8]*s8+c[9]*s9+c[10]*s10+c[11]*s11+c[12]*s12)\n",
    "\n",
    "x_cvs=exp(y_cvs)\n",
    "\n",
    "ts.plot(x,x_cvs,xlab='t',ylab='Airpass',col=c(1,2),lwd=c(1,2))\n",
    "legend('topleft',legend=c(\"X\",\"X_CVS\"),col=c(1,2),lwd=c(1,2))"
   ]
  },
  {
   "cell_type": "markdown",
   "metadata": {},
   "source": [
    "# Mission 2 : Effectuez une désaisonnalisation de la consommation que vous aurez obtenue après correction, grâce aux moyennes mobiles."
   ]
  },
  {
   "cell_type": "code",
   "execution_count": null,
   "metadata": {},
   "outputs": [],
   "source": [
    "# Désaisonnaliser une série temporelle à l'aide des moyennes mobile (alogrithme x11)\n",
    "# Il y a deux phases de 4 étapes. Chaque phase donne une St corrigée.\n",
    "\n",
    "## Etape 1 : Primo-estimation de la tendance\n",
    "m2_12=function(x){\n",
    "  y=(1/12)*filter(x,c(0.5,rep(1,times=11),0.5))\n",
    "  return(y)\n",
    "}\n",
    "t1=m2_12(y)\n",
    "\n",
    "## Primo-estimation de la somme composante saisonnière-perturbation\n",
    "sig1=y-t1\n",
    "\n",
    "## Primo-estimation de la composante saisonnière\n",
    "m3=function(x){\n",
    "  \n",
    "  y=(1/3)*filter(x,rep(1,times=3))\n",
    "  \n",
    "  return(y)\n",
    "  \n",
    "}\n",
    "s1=m3(m3(sig1))\n",
    "shat1=s1-m2_12(s1)\n",
    "## Primo-estimation de la série corrigée des variations saisonnières\n",
    "ycvs1=y-shat1\n",
    "xcvs1=exp(ycvs1)\n",
    "\n",
    "ts.plot(x,xcvs1,col=c(1,2),lwd=c(1,2))\n",
    "\n",
    "legend(\"topleft\",legend=c(\"X\",\"X_CVS\"),col=c(1,2),lwd=c(1,2))\n",
    "\n",
    "# Fin de la phase 1 et debut de la phase 2\n",
    "## Etape 1 : Estimation définitive de la tendance\n",
    "m13h=function(x){\n",
    "  \n",
    "  y=(1/16796)*filter(x,c(-325,-468,0,1100,2475,3600,4032,3600,2475,1100,0,-468,-325))\n",
    "  \n",
    "  return(y)\n",
    "  \n",
    "}\n",
    "\n",
    "t2=m13h(xcvs1)\n",
    "## Etape 2 : Estimation définitive de la somme composante saisonnière-perturbation (2)\n",
    "sig2=y-t2\n",
    "\n",
    "## Etape 3 : Estimation définitive de la composante saisonnière\n",
    "m5=function(x){\n",
    "  y=(1/5)*filter(x,rep(1,times=5))\n",
    "  return(y)\n",
    "}\n",
    "s2=m3(m5(sig2))\n",
    "shat2=s2-m2_12(s2)\n",
    "\n",
    "## Estimation définitive de la série corrigée des variations saisonnières\n",
    "ycvs2=y-shat2\n",
    "xcvs2=exp(ycvs2)\n",
    "\n",
    "ts.plot(x,xcvs2,col=c(1,2),lwd=c(1,2))\n",
    "\n",
    "legend(\"topleft\",legend=c(\"X\",\"X_CVS\"),col=c(1,2),lwd=c(1,2))\n"
   ]
  },
  {
   "cell_type": "code",
   "execution_count": null,
   "metadata": {},
   "outputs": [],
   "source": []
  }
 ],
 "metadata": {
  "kernelspec": {
   "display_name": "R [conda env:RAnalysis]",
   "language": "R",
   "name": "conda-env-RAnalysis-r"
  },
  "language_info": {
   "codemirror_mode": "r",
   "file_extension": ".r",
   "mimetype": "text/x-r-source",
   "name": "R",
   "pygments_lexer": "r",
   "version": "3.4.3"
  }
 },
 "nbformat": 4,
 "nbformat_minor": 2
}
