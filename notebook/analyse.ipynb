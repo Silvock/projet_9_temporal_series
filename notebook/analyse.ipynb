{
 "cells": [
  {
   "cell_type": "code",
   "execution_count": 1,
   "metadata": {},
   "outputs": [
    {
     "name": "stderr",
     "output_type": "stream",
     "text": [
      "gdata: read.xls support for 'XLS' (Excel 97-2004) files ENABLED.\n",
      "\n",
      "gdata: read.xls support for 'XLSX' (Excel 2007+) files ENABLED.\n",
      "\n",
      "Attaching package: ‘gdata’\n",
      "\n",
      "The following object is masked from ‘package:stats’:\n",
      "\n",
      "    nobs\n",
      "\n",
      "The following object is masked from ‘package:utils’:\n",
      "\n",
      "    object.size\n",
      "\n",
      "The following object is masked from ‘package:base’:\n",
      "\n",
      "    startsWith\n",
      "\n"
     ]
    }
   ],
   "source": [
    "library('gdata')\n"
   ]
  },
  {
   "cell_type": "code",
   "execution_count": 2,
   "metadata": {},
   "outputs": [],
   "source": [
    "files_to_read <- list.files(path = '../fichiers_csv/meteo_data',full.names = TRUE)\n"
   ]
  },
  {
   "cell_type": "code",
   "execution_count": 3,
   "metadata": {},
   "outputs": [
    {
     "data": {
      "text/html": [
       "TRUE"
      ],
      "text/latex": [
       "TRUE"
      ],
      "text/markdown": [
       "TRUE"
      ],
      "text/plain": [
       "[1] TRUE"
      ]
     },
     "metadata": {},
     "output_type": "display_data"
    }
   ],
   "source": [
    "df_energie <- read.xls('../fichiers_csv/energie.xls')\n",
    "is.data.frame(df_energie)"
   ]
  },
  {
   "cell_type": "code",
   "execution_count": 4,
   "metadata": {},
   "outputs": [],
   "source": [
    "\n",
    "liste_meteo <- lapply(files_to_read,function(i){\n",
    "    list_csv <- read.xls(i)\n",
    "})"
   ]
  },
  {
   "cell_type": "code",
   "execution_count": 5,
   "metadata": {},
   "outputs": [],
   "source": [
    "df_meteo <- lapply(liste_meteo,function(i){\n",
    "    a <- data.frame(i,stringsAsFactors = TRUE)\n",
    "station <- levels(a[1,'X.1'])[13]\n",
    "mat <- as.matrix(a)\n",
    "mat <- mat[-c(1,2,3,4,5,6,7),]\n",
    "colnames(mat) <- mat[1,]\n",
    "mat <- mat[-1,]\n",
    "colnames(mat)[1] <- 'Annee'\n",
    "nb_row <- length(mat[,'Annee'])\n",
    "mat<- cbind(rep(station,nb_row),mat)\n",
    "colnames(mat)[1] <- 'Station'\n",
    "as.data.frame(mat)\n",
    "})"
   ]
  },
  {
   "cell_type": "code",
   "execution_count": 10,
   "metadata": {},
   "outputs": [
    {
     "name": "stderr",
     "output_type": "stream",
     "text": [
      "Warning message in FUN(X[[i]], ...):\n",
      "“la chaîne de caractères entrée 4 est incorrecte dans cet environnement linguistique”Warning message in FUN(X[[i]], ...):\n",
      "“la chaîne de caractères entrée 10 est incorrecte dans cet environnement linguistique”Warning message in FUN(X[[i]], ...):\n",
      "“la chaîne de caractères entrée 14 est incorrecte dans cet environnement linguistique”Warning message in FUN(X[[i]], ...):\n",
      "“la chaîne de caractères entrée 4 est incorrecte dans cet environnement linguistique”Warning message in FUN(X[[i]], ...):\n",
      "“la chaîne de caractères entrée 10 est incorrecte dans cet environnement linguistique”Warning message in FUN(X[[i]], ...):\n",
      "“la chaîne de caractères entrée 14 est incorrecte dans cet environnement linguistique”Warning message in FUN(X[[i]], ...):\n",
      "“la chaîne de caractères entrée 4 est incorrecte dans cet environnement linguistique”Warning message in FUN(X[[i]], ...):\n",
      "“la chaîne de caractères entrée 10 est incorrecte dans cet environnement linguistique”Warning message in FUN(X[[i]], ...):\n",
      "“la chaîne de caractères entrée 14 est incorrecte dans cet environnement linguistique”Warning message in FUN(X[[i]], ...):\n",
      "“la chaîne de caractères entrée 4 est incorrecte dans cet environnement linguistique”Warning message in FUN(X[[i]], ...):\n",
      "“la chaîne de caractères entrée 10 est incorrecte dans cet environnement linguistique”Warning message in FUN(X[[i]], ...):\n",
      "“la chaîne de caractères entrée 14 est incorrecte dans cet environnement linguistique”Warning message in FUN(X[[i]], ...):\n",
      "“la chaîne de caractères entrée 4 est incorrecte dans cet environnement linguistique”Warning message in FUN(X[[i]], ...):\n",
      "“la chaîne de caractères entrée 10 est incorrecte dans cet environnement linguistique”Warning message in FUN(X[[i]], ...):\n",
      "“la chaîne de caractères entrée 14 est incorrecte dans cet environnement linguistique”Warning message in FUN(X[[i]], ...):\n",
      "“la chaîne de caractères entrée 4 est incorrecte dans cet environnement linguistique”Warning message in FUN(X[[i]], ...):\n",
      "“la chaîne de caractères entrée 10 est incorrecte dans cet environnement linguistique”Warning message in FUN(X[[i]], ...):\n",
      "“la chaîne de caractères entrée 14 est incorrecte dans cet environnement linguistique”Warning message in FUN(X[[i]], ...):\n",
      "“la chaîne de caractères entrée 4 est incorrecte dans cet environnement linguistique”Warning message in FUN(X[[i]], ...):\n",
      "“la chaîne de caractères entrée 10 est incorrecte dans cet environnement linguistique”Warning message in FUN(X[[i]], ...):\n",
      "“la chaîne de caractères entrée 14 est incorrecte dans cet environnement linguistique”Warning message in FUN(X[[i]], ...):\n",
      "“la chaîne de caractères entrée 4 est incorrecte dans cet environnement linguistique”Warning message in FUN(X[[i]], ...):\n",
      "“la chaîne de caractères entrée 10 est incorrecte dans cet environnement linguistique”Warning message in FUN(X[[i]], ...):\n",
      "“la chaîne de caractères entrée 14 est incorrecte dans cet environnement linguistique”Warning message in FUN(X[[i]], ...):\n",
      "“la chaîne de caractères entrée 4 est incorrecte dans cet environnement linguistique”Warning message in FUN(X[[i]], ...):\n",
      "“la chaîne de caractères entrée 10 est incorrecte dans cet environnement linguistique”Warning message in FUN(X[[i]], ...):\n",
      "“la chaîne de caractères entrée 14 est incorrecte dans cet environnement linguistique”Warning message in FUN(X[[i]], ...):\n",
      "“la chaîne de caractères entrée 4 est incorrecte dans cet environnement linguistique”Warning message in FUN(X[[i]], ...):\n",
      "“la chaîne de caractères entrée 10 est incorrecte dans cet environnement linguistique”Warning message in FUN(X[[i]], ...):\n",
      "“la chaîne de caractères entrée 14 est incorrecte dans cet environnement linguistique”Warning message in FUN(X[[i]], ...):\n",
      "“la chaîne de caractères entrée 4 est incorrecte dans cet environnement linguistique”Warning message in FUN(X[[i]], ...):\n",
      "“la chaîne de caractères entrée 10 est incorrecte dans cet environnement linguistique”Warning message in FUN(X[[i]], ...):\n",
      "“la chaîne de caractères entrée 14 est incorrecte dans cet environnement linguistique”Warning message in FUN(X[[i]], ...):\n",
      "“la chaîne de caractères entrée 4 est incorrecte dans cet environnement linguistique”Warning message in FUN(X[[i]], ...):\n",
      "“la chaîne de caractères entrée 10 est incorrecte dans cet environnement linguistique”Warning message in FUN(X[[i]], ...):\n",
      "“la chaîne de caractères entrée 14 est incorrecte dans cet environnement linguistique”Warning message in FUN(X[[i]], ...):\n",
      "“la chaîne de caractères entrée 4 est incorrecte dans cet environnement linguistique”Warning message in FUN(X[[i]], ...):\n",
      "“la chaîne de caractères entrée 10 est incorrecte dans cet environnement linguistique”Warning message in FUN(X[[i]], ...):\n",
      "“la chaîne de caractères entrée 14 est incorrecte dans cet environnement linguistique”Warning message in FUN(X[[i]], ...):\n",
      "“la chaîne de caractères entrée 4 est incorrecte dans cet environnement linguistique”Warning message in FUN(X[[i]], ...):\n",
      "“la chaîne de caractères entrée 10 est incorrecte dans cet environnement linguistique”Warning message in FUN(X[[i]], ...):\n",
      "“la chaîne de caractères entrée 14 est incorrecte dans cet environnement linguistique”Warning message in FUN(X[[i]], ...):\n",
      "“la chaîne de caractères entrée 4 est incorrecte dans cet environnement linguistique”Warning message in FUN(X[[i]], ...):\n",
      "“la chaîne de caractères entrée 10 est incorrecte dans cet environnement linguistique”Warning message in FUN(X[[i]], ...):\n",
      "“la chaîne de caractères entrée 14 est incorrecte dans cet environnement linguistique”Warning message in FUN(X[[i]], ...):\n",
      "“la chaîne de caractères entrée 4 est incorrecte dans cet environnement linguistique”Warning message in FUN(X[[i]], ...):\n",
      "“la chaîne de caractères entrée 10 est incorrecte dans cet environnement linguistique”Warning message in FUN(X[[i]], ...):\n",
      "“la chaîne de caractères entrée 14 est incorrecte dans cet environnement linguistique”ERROR while rich displaying an object: Error in gsub(\" &\\\\\", \"\\\\\", r, fixed = TRUE): input string 1 is invalid in this locale\n",
      "\n",
      "Traceback:\n",
      "1. FUN(X[[i]], ...)\n",
      "2. tryCatch(withCallingHandlers({\n",
      " .     rpr <- mime2repr[[mime]](obj)\n",
      " .     if (is.null(rpr)) \n",
      " .         return(NULL)\n",
      " .     prepare_content(is.raw(rpr), rpr)\n",
      " . }, error = error_handler), error = outer_handler)\n",
      "3. tryCatchList(expr, classes, parentenv, handlers)\n",
      "4. tryCatchOne(expr, names, parentenv, handlers[[1L]])\n",
      "5. doTryCatch(return(expr), name, parentenv, handler)\n",
      "6. withCallingHandlers({\n",
      " .     rpr <- mime2repr[[mime]](obj)\n",
      " .     if (is.null(rpr)) \n",
      " .         return(NULL)\n",
      " .     prepare_content(is.raw(rpr), rpr)\n",
      " . }, error = error_handler)\n",
      "7. mime2repr[[mime]](obj)\n",
      "8. repr_latex.list(obj)\n",
      "9. repr_list_generic(obj, \"latex\", \"\\\\item %s\\n\", \"\\\\item[\\\\$%s] %s\\n\", \n",
      " .     \"\\\\textbf{\\\\$%s} = %s\", enum_wrap = \"\\\\begin{enumerate}\\n%s\\\\end{enumerate}\\n\", \n",
      " .     named_wrap = \"\\\\begin{description}\\n%s\\\\end{description}\\n\", \n",
      " .     numeric_item = \"\\\\item[{[[%s]]}] %s\\n\", escape_fun = latex_escape)\n",
      "10. lapply(vec, format2repr[[fmt]])\n",
      "11. FUN(X[[i]], ...)\n",
      "12. repr_latex.data.frame(X[[i]], ...)\n",
      "13. gsub(\" &\\\\\", \"\\\\\", r, fixed = TRUE)\n",
      "Warning message in grepl(\"<html.*>\", data[[\"text/html\"]], ignore.case = TRUE):\n",
      "“la chaîne de caractères entrée 1 est incorrecte dans cet environnement linguistique”"
     ]
    },
    {
     "data": {
      "text/html": [
       "<ol>\n",
       "\t<li><table>\n",
       "<thead><tr><th scope=col>Station</th><th scope=col>Annee</th><th scope=col>JAN</th><th scope=col>F<c9>V</th><th scope=col>MAR</th><th scope=col>AVR</th><th scope=col>MAI</th><th scope=col>JUN</th><th scope=col>JUI</th><th scope=col>AO<db></th><th scope=col>SEP</th><th scope=col>OCT</th><th scope=col>NOV</th><th scope=col>D<c9>C</th><th scope=col>Total</th></tr></thead>\n",
       "<tbody>\n",
       "\t<tr><td>AURILLAC (15)</td><td>2010         </td><td>555.8        </td><td>446.4        </td><td>393.4        </td><td>230.9        </td><td>218.6        </td><td>86.7         </td><td>12.8         </td><td>55.6         </td><td>119.9        </td><td>237.9        </td><td>379.2        </td><td>514.4        </td><td>3251.4       </td></tr>\n",
       "\t<tr><td>AURILLAC (15)</td><td>2011         </td><td>472.2        </td><td>371.5        </td><td>335          </td><td>169          </td><td>104.3        </td><td>93.9         </td><td>80.1         </td><td>36.8         </td><td>53.2         </td><td>193.4        </td><td>238.6        </td><td>401.8        </td><td>2549.5       </td></tr>\n",
       "\t<tr><td>AURILLAC (15)</td><td>2012         </td><td>462.6        </td><td>590.2        </td><td>298.8        </td><td>304.1        </td><td>137.4        </td><td>60.9         </td><td>56.6         </td><td>19           </td><td>94.5         </td><td>180.8        </td><td>317.1        </td><td>443.6        </td><td>2965.3       </td></tr>\n",
       "\t<tr><td>AURILLAC (15)</td><td>2013         </td><td>526.2        </td><td>480.3        </td><td>376.3        </td><td>282.2        </td><td>268.3        </td><td>109.3        </td><td>7.1          </td><td>39           </td><td>95.1         </td><td>160.5        </td><td>391.6        </td><td>415.5        </td><td>3151.1       </td></tr>\n",
       "\t<tr><td>AURILLAC (15)</td><td>2014         </td><td>402.9        </td><td>369.5        </td><td>332.7        </td><td>219.4        </td><td>197.5        </td><td>52           </td><td>42.9         </td><td>72.4         </td><td>60.9         </td><td>126.8        </td><td>244          </td><td>453.6        </td><td>2574.3       </td></tr>\n",
       "\t<tr><td>AURILLAC (15)</td><td>2015         </td><td>465.3        </td><td>456.1        </td><td>329.2        </td><td>210.3        </td><td>152          </td><td>32           </td><td>11.8         </td><td>35.6         </td><td>144.5        </td><td>234.1        </td><td>298.9        </td><td>321.1        </td><td>2690.7       </td></tr>\n",
       "\t<tr><td>AURILLAC (15)</td><td>2016         </td><td>413.7        </td><td>386.3        </td><td>394.3        </td><td>279.7        </td><td>182.7        </td><td>79.5         </td><td>25.8         </td><td>22.6         </td><td>70.5         </td><td>232.1        </td><td>329          </td><td>395.1        </td><td>2811         </td></tr>\n",
       "\t<tr><td>AURILLAC (15)</td><td>2017         </td><td>532.9        </td><td>323.7        </td><td>287.4        </td><td>265.9        </td><td>128.6        </td><td>0            </td><td>0            </td><td>0            </td><td>0            </td><td>0            </td><td>0            </td><td>0            </td><td>1538.4       </td></tr>\n",
       "</tbody>\n",
       "</table>\n",
       "</li>\n",
       "</ol>\n"
      ],
      "text/markdown": [
       "1. \n",
       "Station | Annee | JAN | F<c9>V | MAR | AVR | MAI | JUN | JUI | AO<db> | SEP | OCT | NOV | D<c9>C | Total | \n",
       "|---|---|---|---|---|---|---|---|\n",
       "| AURILLAC (15) | 2010          | 555.8         | 446.4         | 393.4         | 230.9         | 218.6         | 86.7          | 12.8          | 55.6          | 119.9         | 237.9         | 379.2         | 514.4         | 3251.4        | \n",
       "| AURILLAC (15) | 2011          | 472.2         | 371.5         | 335           | 169           | 104.3         | 93.9          | 80.1          | 36.8          | 53.2          | 193.4         | 238.6         | 401.8         | 2549.5        | \n",
       "| AURILLAC (15) | 2012          | 462.6         | 590.2         | 298.8         | 304.1         | 137.4         | 60.9          | 56.6          | 19            | 94.5          | 180.8         | 317.1         | 443.6         | 2965.3        | \n",
       "| AURILLAC (15) | 2013          | 526.2         | 480.3         | 376.3         | 282.2         | 268.3         | 109.3         | 7.1           | 39            | 95.1          | 160.5         | 391.6         | 415.5         | 3151.1        | \n",
       "| AURILLAC (15) | 2014          | 402.9         | 369.5         | 332.7         | 219.4         | 197.5         | 52            | 42.9          | 72.4          | 60.9          | 126.8         | 244           | 453.6         | 2574.3        | \n",
       "| AURILLAC (15) | 2015          | 465.3         | 456.1         | 329.2         | 210.3         | 152           | 32            | 11.8          | 35.6          | 144.5         | 234.1         | 298.9         | 321.1         | 2690.7        | \n",
       "| AURILLAC (15) | 2016          | 413.7         | 386.3         | 394.3         | 279.7         | 182.7         | 79.5          | 25.8          | 22.6          | 70.5          | 232.1         | 329           | 395.1         | 2811          | \n",
       "| AURILLAC (15) | 2017          | 532.9         | 323.7         | 287.4         | 265.9         | 128.6         | 0             | 0             | 0             | 0             | 0             | 0             | 0             | 1538.4        | \n",
       "\n",
       "\n",
       "\n",
       "\n",
       "\n"
      ],
      "text/plain": [
       "[[1]]\n",
       "        Station Annee   JAN F\\xc9V   MAR   AVR   MAI   JUN  JUI AO\\xdb   SEP\n",
       "1 AURILLAC (15)  2010 555.8  446.4 393.4 230.9 218.6  86.7 12.8   55.6 119.9\n",
       "2 AURILLAC (15)  2011 472.2  371.5   335   169 104.3  93.9 80.1   36.8  53.2\n",
       "3 AURILLAC (15)  2012 462.6  590.2 298.8 304.1 137.4  60.9 56.6     19  94.5\n",
       "4 AURILLAC (15)  2013 526.2  480.3 376.3 282.2 268.3 109.3  7.1     39  95.1\n",
       "5 AURILLAC (15)  2014 402.9  369.5 332.7 219.4 197.5    52 42.9   72.4  60.9\n",
       "6 AURILLAC (15)  2015 465.3  456.1 329.2 210.3   152    32 11.8   35.6 144.5\n",
       "7 AURILLAC (15)  2016 413.7  386.3 394.3 279.7 182.7  79.5 25.8   22.6  70.5\n",
       "8 AURILLAC (15)  2017 532.9  323.7 287.4 265.9 128.6     0    0      0     0\n",
       "    OCT   NOV D\\xc9C  Total\n",
       "1 237.9 379.2  514.4 3251.4\n",
       "2 193.4 238.6  401.8 2549.5\n",
       "3 180.8 317.1  443.6 2965.3\n",
       "4 160.5 391.6  415.5 3151.1\n",
       "5 126.8   244  453.6 2574.3\n",
       "6 234.1 298.9  321.1 2690.7\n",
       "7 232.1   329  395.1   2811\n",
       "8     0     0      0 1538.4\n"
      ]
     },
     "metadata": {},
     "output_type": "display_data"
    }
   ],
   "source": [
    "df_meteo[5]"
   ]
  }
 ],
 "metadata": {
  "kernelspec": {
   "display_name": "R",
   "language": "R",
   "name": "ir"
  },
  "language_info": {
   "codemirror_mode": "r",
   "file_extension": ".r",
   "mimetype": "text/x-r-source",
   "name": "R",
   "pygments_lexer": "r",
   "version": "3.5.1"
  }
 },
 "nbformat": 4,
 "nbformat_minor": 2
}
